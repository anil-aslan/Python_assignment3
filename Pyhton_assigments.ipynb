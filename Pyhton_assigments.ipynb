{
  "nbformat": 4,
  "nbformat_minor": 0,
  "metadata": {
    "colab": {
      "name": "Pyhton assigments",
      "provenance": [],
      "authorship_tag": "ABX9TyM4JknBt6tZxRgx8D6cNToq",
      "include_colab_link": true
    },
    "kernelspec": {
      "name": "python3",
      "display_name": "Python 3"
    },
    "language_info": {
      "name": "python"
    }
  },
  "cells": [
    {
      "cell_type": "markdown",
      "metadata": {
        "id": "view-in-github",
        "colab_type": "text"
      },
      "source": [
        "<a href=\"https://colab.research.google.com/github/anil-aslan/Python_assignment3/blob/main/Pyhton_assigments.ipynb\" target=\"_parent\"><img src=\"https://colab.research.google.com/assets/colab-badge.svg\" alt=\"Open In Colab\"/></a>"
      ]
    },
    {
      "cell_type": "code",
      "metadata": {
        "id": "cSAQiQ0srzAd",
        "colab": {
          "base_uri": "https://localhost:8080/"
        },
        "outputId": "879af304-0c54-47a2-bcd6-513c00a448a8"
      },
      "source": [
        "number = input(\"Enter a number : \")\n",
        "digit = len(number)\n",
        "while not number.isdigit() :\n",
        "  print(\" It is an invalid entry. Don't use non-numeric, float, or negative values!\")\n",
        "  number = input(\"Enter a number : \")\n",
        " \n",
        "toplam = 0\n",
        "for i in range(digit):\n",
        "  toplam += int(number[i]) ** digit\n",
        "if toplam == int(number) :\n",
        "  print(number, \"is a armstrong number\")\n",
        "else :\n",
        "  print(number, \"is not a armstrong number\")"
      ],
      "execution_count": 1,
      "outputs": [
        {
          "output_type": "stream",
          "text": [
            "Enter a number : 370\n",
            "370 is a armstrong number\n"
          ],
          "name": "stdout"
        }
      ]
    }
  ]
}